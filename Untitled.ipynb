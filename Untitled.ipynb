{
 "cells": [
  {
   "cell_type": "code",
   "execution_count": 5,
   "id": "21edda93-0230-4a7b-a712-077a4aa5b16f",
   "metadata": {},
   "outputs": [],
   "source": [
    "from fosforml.model_manager.snowflakesession import get_session\n",
    "\n",
    "my_session = get_session()"
   ]
  },
  {
   "cell_type": "code",
   "execution_count": 6,
   "id": "2bd3dbaf-aedf-4908-8bab-99573b97f536",
   "metadata": {},
   "outputs": [],
   "source": [
    "df = 'BOLLYWOOD'"
   ]
  },
  {
   "cell_type": "code",
   "execution_count": 7,
   "id": "32660d18-0090-4434-9be9-c94b460ca29d",
   "metadata": {},
   "outputs": [],
   "source": [
    "import pandas as pd"
   ]
  },
  {
   "cell_type": "code",
   "execution_count": 8,
   "id": "147a9995-b976-4d90-ad9c-08b8cb357534",
   "metadata": {},
   "outputs": [],
   "source": [
    "sf_df = my_session.sql(\"select * from {}\".format(df))"
   ]
  },
  {
   "cell_type": "code",
   "execution_count": null,
   "id": "ef82b513-d1dd-488c-9e18-d82140f769aa",
   "metadata": {},
   "outputs": [],
   "source": [
    "import pandas as pd\n",
    "bolly_df = sf_df.to_pandas()"
   ]
  },
  {
   "cell_type": "code",
   "execution_count": null,
   "id": "9f265dbd-8ff6-4e24-9add-83c4273377e9",
   "metadata": {},
   "outputs": [],
   "source": [
    "pandas_df"
   ]
  },
  {
   "cell_type": "code",
   "execution_count": null,
   "id": "038a6bef-39db-43ad-ad42-fb6b7e14308b",
   "metadata": {},
   "outputs": [],
   "source": [
    "len(pandas_df)"
   ]
  },
  {
   "cell_type": "code",
   "execution_count": null,
   "id": "0d6a5257-90bd-42d0-9e09-0a70c59f9019",
   "metadata": {},
   "outputs": [],
   "source": [
    "pandas_df['GENRE'].value_counts()"
   ]
  },
  {
   "cell_type": "code",
   "execution_count": null,
   "id": "c9fec6e4-5b6b-4743-883f-1b177996dd40",
   "metadata": {},
   "outputs": [],
   "source": [
    "pd.crosstab(pandas_df['GENRE'],pandas_df['RELEASETIME'])"
   ]
  },
  {
   "cell_type": "code",
   "execution_count": null,
   "id": "53c4c5bd-fdf9-4afd-9ba1-0d499c6bf6a0",
   "metadata": {},
   "outputs": [],
   "source": [
    "# How many movies in each genre got released in different release times like long weekend, festive season, etc.\n",
    "pd.crosstab(pandas_df['RELEASETIME'],pandas_df['GENRE'])"
   ]
  },
  {
   "cell_type": "code",
   "execution_count": null,
   "id": "3067e729-5116-4be3-9aa4-a9e52cbeab41",
   "metadata": {},
   "outputs": [],
   "source": [
    "pandas_df['Month'] = pandas_df['RELEASEDATE'].dt.month\n",
    "\n",
    "pandas_df['Month'].value_counts()"
   ]
  },
  {
   "cell_type": "code",
   "execution_count": null,
   "id": "4af744a5-ebe6-4530-b6bf-e80c47198479",
   "metadata": {},
   "outputs": [],
   "source": [
    "pandas_df"
   ]
  },
  {
   "cell_type": "code",
   "execution_count": null,
   "id": "07478c96-9bb2-4eac-808c-0d53bd1e4ae9",
   "metadata": {},
   "outputs": [],
   "source": []
  }
 ],
 "metadata": {
  "kernelspec": {
   "display_name": "Python 3 (ipykernel)",
   "language": "python",
   "name": "python3"
  },
  "language_info": {
   "codemirror_mode": {
    "name": "ipython",
    "version": 3
   },
   "file_extension": ".py",
   "mimetype": "text/x-python",
   "name": "python",
   "nbconvert_exporter": "python",
   "pygments_lexer": "ipython3",
   "version": "3.9.19"
  }
 },
 "nbformat": 4,
 "nbformat_minor": 5
}
