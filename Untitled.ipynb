{
 "cells": [
  {
   "cell_type": "code",
   "execution_count": 1,
   "id": "d324c4d3-90e2-41e8-9699-0b710ddecda7",
   "metadata": {},
   "outputs": [
    {
     "name": "stderr",
     "output_type": "stream",
     "text": [
      "/tmp/ipykernel_34/3158479068.py:1: DeprecationWarning: \n",
      "Pyarrow will become a required dependency of pandas in the next major release of pandas (pandas 3.0),\n",
      "(to allow more performant data types, such as the Arrow string type, and better interoperability with other libraries)\n",
      "but was not found to be installed on your system.\n",
      "If this would cause problems for you,\n",
      "please provide us feedback at https://github.com/pandas-dev/pandas/issues/54466\n",
      "        \n",
      "  import pandas as pd\n"
     ]
    },
    {
     "name": "stdout",
     "output_type": "stream",
     "text": [
      "   SALARY_INR                       SALARY_RANGE           SALARY_LEVEL\n",
      "0      806176   ₹8,00,000 - ₹12,00,000 per annum              Mid Level\n",
      "1      806176   ₹8,00,000 - ₹12,00,000 per annum              Mid Level\n",
      "2     2429649  ₹18,00,000 - ₹25,00,000 per annum  Lead/Managerial Level\n",
      "3      806176   ₹8,00,000 - ₹12,00,000 per annum              Mid Level\n",
      "4      338517    ₹3,00,000 - ₹5,00,000 per annum            Entry Level\n"
     ]
    }
   ],
   "source": [
    "import pandas as pd\n",
    "import numpy as np\n",
    "\n",
    "# Define the number of records\n",
    "num_records = 300000\n",
    "\n",
    "# Define salary ranges and their corresponding levels\n",
    "salary_ranges = [\n",
    "    (300000, 500000, '₹3,00,000 - ₹5,00,000 per annum', 'Entry Level'),\n",
    "    (500001, 800000, '₹5,00,000 - ₹8,00,000 per annum', 'Junior Level'),\n",
    "    (800001, 1200000, '₹8,00,000 - ₹12,00,000 per annum', 'Mid Level'),\n",
    "    (1200001, 1800000, '₹12,00,000 - ₹18,00,000 per annum', 'Senior Level'),\n",
    "    (1800001, 2500000, '₹18,00,000 - ₹25,00,000 per annum', 'Lead/Managerial Level'),\n",
    "    (2500001, 5000000, '₹25,00,000 - ₹40,00,000+ per annum', 'Executive Level')\n",
    "]\n",
    "\n",
    "# Define probabilities for higher distribution of certain salaries\n",
    "probabilities = [0.25, 0.25, 0.25, 0.10, 0.10, 0.05]\n",
    "\n",
    "# Generate random salaries based on defined probabilities\n",
    "salaries = np.random.choice(\n",
    "    [np.random.randint(low, high) for low, high, _, _ in salary_ranges],\n",
    "    size=num_records,\n",
    "    p=probabilities\n",
    ")\n",
    "\n",
    "# Create DataFrame\n",
    "df = pd.DataFrame({'SALARY_INR': salaries})\n",
    "\n",
    "# Function to categorize salary ranges and levels\n",
    "def categorize_salary(salary):\n",
    "    for low, high, range_str, level in salary_ranges:\n",
    "        if low <= salary <= high:\n",
    "            return range_str, level\n",
    "    return None, None\n",
    "\n",
    "# Apply categorization\n",
    "df[['SALARY_RANGE', 'SALARY_LEVEL']] = df['SALARY_INR'].apply(lambda x: pd.Series(categorize_salary(x)))\n",
    "\n",
    "# Display the first few rows of the DataFrame\n",
    "print(df.head(10))\n",
    "\n",
    "# Save to CSV if needed\n",
    "# df.to_csv('salaries.csv', index=False)\n"
   ]
  },
  {
   "cell_type": "code",
   "execution_count": 2,
   "id": "101dc5f1-3cb6-45a5-9b4b-723bdf478190",
   "metadata": {},
   "outputs": [
    {
     "name": "stdout",
     "output_type": "stream",
     "text": [
      "   SALARY_INR                       SALARY_RANGE           SALARY_LEVEL\n",
      "0      806176   ₹8,00,000 - ₹12,00,000 per annum              Mid Level\n",
      "1      806176   ₹8,00,000 - ₹12,00,000 per annum              Mid Level\n",
      "2     2429649  ₹18,00,000 - ₹25,00,000 per annum  Lead/Managerial Level\n",
      "3      806176   ₹8,00,000 - ₹12,00,000 per annum              Mid Level\n",
      "4      338517    ₹3,00,000 - ₹5,00,000 per annum            Entry Level\n",
      "5      785036    ₹5,00,000 - ₹8,00,000 per annum           Junior Level\n",
      "6      785036    ₹5,00,000 - ₹8,00,000 per annum           Junior Level\n",
      "7      338517    ₹3,00,000 - ₹5,00,000 per annum            Entry Level\n",
      "8     1684415  ₹12,00,000 - ₹18,00,000 per annum           Senior Level\n",
      "9      338517    ₹3,00,000 - ₹5,00,000 per annum            Entry Level\n"
     ]
    }
   ],
   "source": [
    "print(df.head(10))"
   ]
  },
  {
   "cell_type": "code",
   "execution_count": null,
   "id": "bd937916-cc42-4499-809b-6e71de8c99e3",
   "metadata": {},
   "outputs": [],
   "source": [
    "df.to_csv('salaries.csv', index=False)"
   ]
  }
 ],
 "metadata": {
  "kernelspec": {
   "display_name": "Python 3 (ipykernel)",
   "language": "python",
   "name": "python3"
  },
  "language_info": {
   "codemirror_mode": {
    "name": "ipython",
    "version": 3
   },
   "file_extension": ".py",
   "mimetype": "text/x-python",
   "name": "python",
   "nbconvert_exporter": "python",
   "pygments_lexer": "ipython3",
   "version": "3.9.19"
  }
 },
 "nbformat": 4,
 "nbformat_minor": 5
}
