{
 "cells": [
  {
   "cell_type": "code",
   "execution_count": null,
   "id": "d324c4d3-90e2-41e8-9699-0b710ddecda7",
   "metadata": {},
   "outputs": [],
   "source": []
  }
 ],
 "metadata": {
  "kernelspec": {
   "display_name": "",
   "name": ""
  },
  "language_info": {
   "name": ""
  }
 },
 "nbformat": 4,
 "nbformat_minor": 5
}
