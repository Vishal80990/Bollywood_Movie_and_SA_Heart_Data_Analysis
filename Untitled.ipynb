{
 "cells": [
  {
   "cell_type": "code",
   "execution_count": null,
   "id": "e8b2adff-37da-4083-975a-d4e0f4dda5ef",
   "metadata": {},
   "outputs": [],
   "source": []
  }
 ],
 "metadata": {
  "kernelspec": {
   "display_name": "",
   "name": ""
  },
  "language_info": {
   "name": ""
  }
 },
 "nbformat": 4,
 "nbformat_minor": 5
}
